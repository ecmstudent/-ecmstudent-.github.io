{
 "cells": [
  {
   "cell_type": "markdown",
   "id": "438dac4b",
   "metadata": {},
   "source": [
    "# Week 1: Getting started with Anaconda, Jupyter Notebook and Python\n",
    "\n",
    "Exercises to familiarise myself with Jupyter Notebook and its relationship to Python."
   ]
  },
  {
   "cell_type": "markdown",
   "id": "c445f8ab",
   "metadata": {},
   "source": [
    "### a) I choose this course beacause I am very interested in the subject area and I think that it could benefit me in the future due to it being a field increasing in popularity and relevance."
   ]
  },
  {
   "cell_type": "markdown",
   "id": "4e79bdb8",
   "metadata": {},
   "source": [
    "### b) I have no experience in AI or Python. "
   ]
  },
  {
   "cell_type": "markdown",
   "id": "dc592ba3",
   "metadata": {},
   "source": [
    "### c) I expect to learn\n",
    "    - The basics of python\n",
    "    - The developments occuring in AI\n",
    "    - Ethics surround AI\n",
    "    - More details about machine learning"
   ]
  },
  {
   "cell_type": "code",
   "execution_count": null,
   "id": "a2bbb9fc",
   "metadata": {},
   "outputs": [],
   "source": [
    "greeting = (\"Have a good day!\")\n",
    "\n",
    "print (greeting)"
   ]
  },
  {
   "cell_type": "code",
   "execution_count": null,
   "id": "7e2c302d",
   "metadata": {},
   "outputs": [],
   "source": [
    "from IPython.display import *\n",
    "\n",
    "YouTubeVideo(\"472AnCrHYVs\")"
   ]
  },
  {
   "cell_type": "markdown",
   "id": "c4cead49",
   "metadata": {},
   "source": [
    "# Week 2: Exploring Data in Multiple Ways"
   ]
  },
  {
   "cell_type": "code",
   "execution_count": null,
   "id": "12ef4c16",
   "metadata": {},
   "outputs": [],
   "source": [
    "from IPython.display import Image "
   ]
  },
  {
   "cell_type": "code",
   "execution_count": null,
   "id": "8bab1863",
   "metadata": {},
   "outputs": [],
   "source": [
    "Image (\"picture1.jpg\")"
   ]
  },
  {
   "cell_type": "code",
   "execution_count": null,
   "id": "1e83ace1",
   "metadata": {},
   "outputs": [],
   "source": [
    "from IPython.display import Audio"
   ]
  },
  {
   "cell_type": "code",
   "execution_count": null,
   "id": "de1a641b",
   "metadata": {},
   "outputs": [],
   "source": [
    "Audio (\"audio1.mid\")"
   ]
  },
  {
   "cell_type": "code",
   "execution_count": null,
   "id": "4b239226",
   "metadata": {},
   "outputs": [],
   "source": [
    "Audio (\"audio2.ogg\")"
   ]
  },
  {
   "cell_type": "markdown",
   "id": "8b31da7d",
   "metadata": {},
   "source": [
    "#### This file is licensed under the Creative Commons Attribution-Share Alike 3.0 Unported license.\n",
    "    You are free: \n",
    "        •\tto share – to copy, distribute and transmit the work\n",
    "        •\tto remix – to adapt the work\n",
    "    Under the following conditions: \n",
    "        •\tattribution – You must give appropriate credit, provide a link to the license, and indicate if changes were made. You may do so in any reasonable manner, but not in any way that suggests the licensor endorses you or your use.\n",
    "        •\tshare alike – If you remix, transform, or build upon the material, you must distribute your contributions under the same or compatible license as the original.\n",
    "\n",
    "The original ogg file was found at the url: \n",
    "https://en.wikipedia.org/wiki/File:GoldbergVariations_MehmetOkonsar-1of3_Var1to10.ogg\n"
   ]
  },
  {
   "cell_type": "code",
   "execution_count": null,
   "id": "03a45f78",
   "metadata": {},
   "outputs": [],
   "source": [
    "from matplotlib import pyplot\n",
    "test_picture = pyplot.imread(\"picture1.jpg\")\n",
    "print(\"Numpy array of the image is: \", test_picture)\n",
    "pyplot.imshow(test_picture)"
   ]
  },
  {
   "cell_type": "markdown",
   "id": "42193e86",
   "metadata": {},
   "source": [
    "#### When using the 'pyplot.imshow(test_picture_filtered)' command the image is displayed more as points on a graph rather than as the actual image shown above. We assume this is due to the numbers being divided moaving them smaller and less visable as an image and more as points on the graph. "
   ]
  },
  {
   "cell_type": "code",
   "execution_count": null,
   "id": "d60bcc6f",
   "metadata": {},
   "outputs": [],
   "source": [
    "from sklearn import datasets\n",
    "dir(datasets)"
   ]
  },
  {
   "cell_type": "markdown",
   "id": "4b873677",
   "metadata": {},
   "source": [
    "#### I chose load_wine because I like wine and load_diabetes as I don't know much about the condition so wanted to know more. "
   ]
  },
  {
   "cell_type": "code",
   "execution_count": null,
   "id": "51eda5ba",
   "metadata": {},
   "outputs": [],
   "source": [
    "from sklearn import datasets\n",
    "\n",
    "wine_data = datasets.load_wine()\n",
    "\n",
    "print(wine_data.target_names)\n",
    "\n",
    "wine_data.keys()"
   ]
  },
  {
   "cell_type": "markdown",
   "id": "18a4a8cf",
   "metadata": {},
   "source": [
    "#### My dataset has 13 features. By running the command wine_data.target_names I believe that this dataset is aiming to classify the different wines into categories. However, from this command alone I am not able to tell anything further about those categories. "
   ]
  },
  {
   "cell_type": "code",
   "execution_count": null,
   "id": "6f1cd4a8",
   "metadata": {
    "scrolled": true
   },
   "outputs": [],
   "source": [
    "from sklearn import datasets\n",
    "\n",
    "load_diabetes = datasets.load_diabetes()\n",
    "\n",
    "print(load_diabetes.DESCR)"
   ]
  },
  {
   "cell_type": "code",
   "execution_count": null,
   "id": "32ab9c97",
   "metadata": {},
   "outputs": [],
   "source": [
    "from sklearn import datasets\n",
    "import pandas\n",
    "\n",
    "wine_data = datasets.load_wine()\n",
    "\n",
    "wine_dataframe = pandas.DataFrame(data=wine_data['data'], columns=wine_data['feature_names'])\n",
    "\n",
    "wine_dataframe.head()\n",
    "wine_dataframe.describe()"
   ]
  },
  {
   "cell_type": "markdown",
   "id": "b4586d6e",
   "metadata": {},
   "source": [
    "#### I think that these commands take the information from the dataset and display them in a table. This makes the information easier to read. "
   ]
  },
  {
   "cell_type": "code",
   "execution_count": null,
   "id": "fe2706e0",
   "metadata": {},
   "outputs": [],
   "source": []
  }
 ],
 "metadata": {
  "kernelspec": {
   "display_name": "Python 3 (ipykernel)",
   "language": "python",
   "name": "python3"
  },
  "language_info": {
   "codemirror_mode": {
    "name": "ipython",
    "version": 3
   },
   "file_extension": ".py",
   "mimetype": "text/x-python",
   "name": "python",
   "nbconvert_exporter": "python",
   "pygments_lexer": "ipython3",
   "version": "3.11.5"
  }
 },
 "nbformat": 4,
 "nbformat_minor": 5
}
